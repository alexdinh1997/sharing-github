{
 "cells": [
  {
   "cell_type": "code",
   "execution_count": 41,
   "metadata": {},
   "outputs": [],
   "source": [
    "import datetime\n",
    "\n",
    "class MessageUser():\n",
    "    user_details =[]\n",
    "    messages =[]\n",
    "    base_message=\"\"\"Hi {name}! \n",
    "Thank you for the purchase on {date}. \n",
    "We hope you are exicted about using it. Just as a\n",
    "reminder the purcase total was {total}.\n",
    "Have a great one!\n",
    "Team CFE\n",
    "\"\"\"\n",
    "    def add_user(self,name,amount,email=None):\n",
    "        #to capitalize the name:\n",
    "        name=name[0].upper() + name[1:].lower()\n",
    "        #to round 2 number after the comma\n",
    "        amount=\"%.2f\" %(amount)\n",
    "        detail={\n",
    "            \"name\":name,\n",
    "            \"amount\":amount,\n",
    "        }\n",
    "        today = datetime.date.today()\n",
    "        date_text =\"{today.day}/{today.month}/{today.year}\".format(today=today) \n",
    "        #we take exactly the same code with the previous assignment\n",
    "        detail['date']=date_text\n",
    "        if email is not None: #if email != None:\n",
    "            detail[\"email\"]= email\n",
    "        self.user_details.append(detail)\n",
    "    def get_details(self):\n",
    "        return self.user_details\n",
    "    def make_messages(self):\n",
    "        if len(self.user_details) > 0:\n",
    "            for detail in self.get_details():\n",
    "                name = detail[\"name\"]\n",
    "                amount=detail[\"amount\"]\n",
    "                date =detail[\"date\"]\n",
    "                message =self.base_message\n",
    "                new_msg =message.format(\n",
    "                name=name,\n",
    "                date=date,\n",
    "                total=amount\n",
    "                )\n",
    "                self.messages.append(new_msg)\n",
    "            return self.messages\n",
    "        return []\n",
    "obj = MessageUser()\n",
    "obj.add_user(\"alex\",12.3, email=\"nguyenlamdtd@gmail.com\")\n",
    "obj.add_user(\"vIvian\",15.4)\n",
    "obj.add_user(\"maya\",12.3)\n",
    "obj.add_user(\"Titania\",30.6)\n",
    "obj.add_user(\"Hannah\",100.6)\n",
    "obj.add_user(\"Brandon\",120)\n",
    "        \n",
    "        \n"
   ]
  },
  {
   "cell_type": "code",
   "execution_count": 42,
   "metadata": {},
   "outputs": [
    {
     "data": {
      "text/plain": [
       "[{'name': 'Alex',\n",
       "  'amount': '12.30',\n",
       "  'date': '27/10/2019',\n",
       "  'email': 'nguyenlamdtd@gmail.com'},\n",
       " {'name': 'Vivian', 'amount': '15.40', 'date': '27/10/2019'},\n",
       " {'name': 'Maya', 'amount': '12.30', 'date': '27/10/2019'},\n",
       " {'name': 'Titania', 'amount': '30.60', 'date': '27/10/2019'},\n",
       " {'name': 'Hannah', 'amount': '100.60', 'date': '27/10/2019'},\n",
       " {'name': 'Brandon', 'amount': '120.00', 'date': '27/10/2019'}]"
      ]
     },
     "execution_count": 42,
     "metadata": {},
     "output_type": "execute_result"
    }
   ],
   "source": [
    "obj.get_details()"
   ]
  },
  {
   "cell_type": "code",
   "execution_count": 43,
   "metadata": {},
   "outputs": [
    {
     "data": {
      "text/plain": [
       "['Hi Alex! \\nThank you for the purchase on 27/10/2019. \\nWe hope you are exicted about using it. Just as a\\nreminder the purcase total was 12.30.\\nHave a great one!\\nTeam CFE\\n',\n",
       " 'Hi Vivian! \\nThank you for the purchase on 27/10/2019. \\nWe hope you are exicted about using it. Just as a\\nreminder the purcase total was 15.40.\\nHave a great one!\\nTeam CFE\\n',\n",
       " 'Hi Maya! \\nThank you for the purchase on 27/10/2019. \\nWe hope you are exicted about using it. Just as a\\nreminder the purcase total was 12.30.\\nHave a great one!\\nTeam CFE\\n',\n",
       " 'Hi Titania! \\nThank you for the purchase on 27/10/2019. \\nWe hope you are exicted about using it. Just as a\\nreminder the purcase total was 30.60.\\nHave a great one!\\nTeam CFE\\n',\n",
       " 'Hi Hannah! \\nThank you for the purchase on 27/10/2019. \\nWe hope you are exicted about using it. Just as a\\nreminder the purcase total was 100.60.\\nHave a great one!\\nTeam CFE\\n',\n",
       " 'Hi Brandon! \\nThank you for the purchase on 27/10/2019. \\nWe hope you are exicted about using it. Just as a\\nreminder the purcase total was 120.00.\\nHave a great one!\\nTeam CFE\\n']"
      ]
     },
     "execution_count": 43,
     "metadata": {},
     "output_type": "execute_result"
    }
   ],
   "source": [
    "obj.make_messages()"
   ]
  },
  {
   "cell_type": "code",
   "execution_count": null,
   "metadata": {},
   "outputs": [],
   "source": []
  }
 ],
 "metadata": {
  "kernelspec": {
   "display_name": "Python 3",
   "language": "python",
   "name": "python3"
  },
  "language_info": {
   "codemirror_mode": {
    "name": "ipython",
    "version": 3
   },
   "file_extension": ".py",
   "mimetype": "text/x-python",
   "name": "python",
   "nbconvert_exporter": "python",
   "pygments_lexer": "ipython3",
   "version": "3.7.4"
  }
 },
 "nbformat": 4,
 "nbformat_minor": 2
}
